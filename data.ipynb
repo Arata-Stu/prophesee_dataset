{
 "cells": [
  {
   "cell_type": "code",
   "execution_count": null,
   "metadata": {},
   "outputs": [],
   "source": [
    "from data.dataset.genx.dataset import PropheseeConcatDataset\n",
    "\n",
    "dataset = PropheseeConcatDataset(base_data_dir='/Users/at/dataset/gen4_pre',\n",
    "                                 mode='train',\n",
    "                                 tau=50,\n",
    "                                 delta_t=50,\n",
    "                                 sequence_length=5,\n",
    "                                 guarantee_label=False,)"
   ]
  },
  {
   "cell_type": "code",
   "execution_count": null,
   "metadata": {},
   "outputs": [],
   "source": [
    "from utils.visualization import save_sequence_as_video\n",
    "save_sequence_as_video(dataset=dataset,\n",
    "                       start_index=0,\n",
    "                       end_index=len(dataset)-1,\n",
    "                       t_ms=50,\n",
    "                       output_file='output.mp4')"
   ]
  },
  {
   "cell_type": "code",
   "execution_count": null,
   "metadata": {},
   "outputs": [],
   "source": []
  }
 ],
 "metadata": {
  "kernelspec": {
   "display_name": "prophesee_env",
   "language": "python",
   "name": "python3"
  },
  "language_info": {
   "codemirror_mode": {
    "name": "ipython",
    "version": 3
   },
   "file_extension": ".py",
   "mimetype": "text/x-python",
   "name": "python",
   "nbconvert_exporter": "python",
   "pygments_lexer": "ipython3",
   "version": "3.9.19"
  }
 },
 "nbformat": 4,
 "nbformat_minor": 2
}
